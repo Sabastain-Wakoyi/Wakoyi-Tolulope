{
  "cells": [
    {
      "cell_type": "markdown",
      "metadata": {
        "id": "view-in-github",
        "colab_type": "text"
      },
      "source": [
        "<a href=\"https://colab.research.google.com/github/Sabastain-Wakoyi/Wakoyi-Tolulope/blob/main/Wakoyi_Tolulope_Facenet.ipynb\" target=\"_parent\"><img src=\"https://colab.research.google.com/assets/colab-badge.svg\" alt=\"Open In Colab\"/></a>"
      ]
    },
    {
      "cell_type": "code",
      "execution_count": null,
      "metadata": {
        "colab": {
          "base_uri": "https://localhost:8080/"
        },
        "id": "Y7zJcYfD0Rcv",
        "outputId": "fefa9f6a-9ebf-42a5-e960-c61c10a16014"
      },
      "outputs": [
        {
          "name": "stdout",
          "output_type": "stream",
          "text": [
            "Requirement already satisfied: facenet-pytorch in /usr/local/lib/python3.10/dist-packages (2.6.0)\n",
            "Requirement already satisfied: numpy<2.0.0,>=1.24.0 in /usr/local/lib/python3.10/dist-packages (from facenet-pytorch) (1.26.4)\n",
            "Requirement already satisfied: Pillow<10.3.0,>=10.2.0 in /usr/local/lib/python3.10/dist-packages (from facenet-pytorch) (10.2.0)\n",
            "Requirement already satisfied: requests<3.0.0,>=2.0.0 in /usr/local/lib/python3.10/dist-packages (from facenet-pytorch) (2.32.3)\n",
            "Requirement already satisfied: torch<2.3.0,>=2.2.0 in /usr/local/lib/python3.10/dist-packages (from facenet-pytorch) (2.2.2)\n",
            "Requirement already satisfied: torchvision<0.18.0,>=0.17.0 in /usr/local/lib/python3.10/dist-packages (from facenet-pytorch) (0.17.2)\n",
            "Requirement already satisfied: tqdm<5.0.0,>=4.0.0 in /usr/local/lib/python3.10/dist-packages (from facenet-pytorch) (4.66.6)\n",
            "Requirement already satisfied: charset-normalizer<4,>=2 in /usr/local/lib/python3.10/dist-packages (from requests<3.0.0,>=2.0.0->facenet-pytorch) (3.4.0)\n",
            "Requirement already satisfied: idna<4,>=2.5 in /usr/local/lib/python3.10/dist-packages (from requests<3.0.0,>=2.0.0->facenet-pytorch) (3.10)\n",
            "Requirement already satisfied: urllib3<3,>=1.21.1 in /usr/local/lib/python3.10/dist-packages (from requests<3.0.0,>=2.0.0->facenet-pytorch) (2.2.3)\n",
            "Requirement already satisfied: certifi>=2017.4.17 in /usr/local/lib/python3.10/dist-packages (from requests<3.0.0,>=2.0.0->facenet-pytorch) (2024.8.30)\n",
            "Requirement already satisfied: filelock in /usr/local/lib/python3.10/dist-packages (from torch<2.3.0,>=2.2.0->facenet-pytorch) (3.16.1)\n",
            "Requirement already satisfied: typing-extensions>=4.8.0 in /usr/local/lib/python3.10/dist-packages (from torch<2.3.0,>=2.2.0->facenet-pytorch) (4.12.2)\n",
            "Requirement already satisfied: sympy in /usr/local/lib/python3.10/dist-packages (from torch<2.3.0,>=2.2.0->facenet-pytorch) (1.13.1)\n",
            "Requirement already satisfied: networkx in /usr/local/lib/python3.10/dist-packages (from torch<2.3.0,>=2.2.0->facenet-pytorch) (3.4.2)\n",
            "Requirement already satisfied: jinja2 in /usr/local/lib/python3.10/dist-packages (from torch<2.3.0,>=2.2.0->facenet-pytorch) (3.1.4)\n",
            "Requirement already satisfied: fsspec in /usr/local/lib/python3.10/dist-packages (from torch<2.3.0,>=2.2.0->facenet-pytorch) (2024.10.0)\n",
            "Requirement already satisfied: nvidia-cuda-nvrtc-cu12==12.1.105 in /usr/local/lib/python3.10/dist-packages (from torch<2.3.0,>=2.2.0->facenet-pytorch) (12.1.105)\n",
            "Requirement already satisfied: nvidia-cuda-runtime-cu12==12.1.105 in /usr/local/lib/python3.10/dist-packages (from torch<2.3.0,>=2.2.0->facenet-pytorch) (12.1.105)\n",
            "Requirement already satisfied: nvidia-cuda-cupti-cu12==12.1.105 in /usr/local/lib/python3.10/dist-packages (from torch<2.3.0,>=2.2.0->facenet-pytorch) (12.1.105)\n",
            "Requirement already satisfied: nvidia-cudnn-cu12==8.9.2.26 in /usr/local/lib/python3.10/dist-packages (from torch<2.3.0,>=2.2.0->facenet-pytorch) (8.9.2.26)\n",
            "Requirement already satisfied: nvidia-cublas-cu12==12.1.3.1 in /usr/local/lib/python3.10/dist-packages (from torch<2.3.0,>=2.2.0->facenet-pytorch) (12.1.3.1)\n",
            "Requirement already satisfied: nvidia-cufft-cu12==11.0.2.54 in /usr/local/lib/python3.10/dist-packages (from torch<2.3.0,>=2.2.0->facenet-pytorch) (11.0.2.54)\n",
            "Requirement already satisfied: nvidia-curand-cu12==10.3.2.106 in /usr/local/lib/python3.10/dist-packages (from torch<2.3.0,>=2.2.0->facenet-pytorch) (10.3.2.106)\n",
            "Requirement already satisfied: nvidia-cusolver-cu12==11.4.5.107 in /usr/local/lib/python3.10/dist-packages (from torch<2.3.0,>=2.2.0->facenet-pytorch) (11.4.5.107)\n",
            "Requirement already satisfied: nvidia-cusparse-cu12==12.1.0.106 in /usr/local/lib/python3.10/dist-packages (from torch<2.3.0,>=2.2.0->facenet-pytorch) (12.1.0.106)\n",
            "Requirement already satisfied: nvidia-nccl-cu12==2.19.3 in /usr/local/lib/python3.10/dist-packages (from torch<2.3.0,>=2.2.0->facenet-pytorch) (2.19.3)\n",
            "Requirement already satisfied: nvidia-nvtx-cu12==12.1.105 in /usr/local/lib/python3.10/dist-packages (from torch<2.3.0,>=2.2.0->facenet-pytorch) (12.1.105)\n",
            "Requirement already satisfied: triton==2.2.0 in /usr/local/lib/python3.10/dist-packages (from torch<2.3.0,>=2.2.0->facenet-pytorch) (2.2.0)\n",
            "Requirement already satisfied: nvidia-nvjitlink-cu12 in /usr/local/lib/python3.10/dist-packages (from nvidia-cusolver-cu12==11.4.5.107->torch<2.3.0,>=2.2.0->facenet-pytorch) (12.6.77)\n",
            "Requirement already satisfied: MarkupSafe>=2.0 in /usr/local/lib/python3.10/dist-packages (from jinja2->torch<2.3.0,>=2.2.0->facenet-pytorch) (3.0.2)\n",
            "Requirement already satisfied: mpmath<1.4,>=1.1.0 in /usr/local/lib/python3.10/dist-packages (from sympy->torch<2.3.0,>=2.2.0->facenet-pytorch) (1.3.0)\n"
          ]
        }
      ],
      "source": [
        "!pip install facenet-pytorch"
      ]
    },
    {
      "cell_type": "code",
      "execution_count": null,
      "metadata": {
        "colab": {
          "base_uri": "https://localhost:8080/"
        },
        "id": "9IXYlr-J0gYj",
        "outputId": "b6feea37-c0d6-4985-d813-083739f18bd0"
      },
      "outputs": [
        {
          "name": "stdout",
          "output_type": "stream",
          "text": [
            "Requirement already satisfied: scikit-learn in /usr/local/lib/python3.10/dist-packages (1.5.2)\n",
            "Requirement already satisfied: numpy>=1.19.5 in /usr/local/lib/python3.10/dist-packages (from scikit-learn) (1.26.4)\n",
            "Requirement already satisfied: scipy>=1.6.0 in /usr/local/lib/python3.10/dist-packages (from scikit-learn) (1.13.1)\n",
            "Requirement already satisfied: joblib>=1.2.0 in /usr/local/lib/python3.10/dist-packages (from scikit-learn) (1.4.2)\n",
            "Requirement already satisfied: threadpoolctl>=3.1.0 in /usr/local/lib/python3.10/dist-packages (from scikit-learn) (3.5.0)\n"
          ]
        }
      ],
      "source": [
        "!pip install scikit-learn"
      ]
    },
    {
      "cell_type": "code",
      "execution_count": null,
      "metadata": {
        "colab": {
          "base_uri": "https://localhost:8080/",
          "height": 403
        },
        "id": "XxVhebwy3Olb",
        "outputId": "5fd76a00-0771-4cca-c449-64613a0cbed7"
      },
      "outputs": [
        {
          "name": "stdout",
          "output_type": "stream",
          "text": [
            "Requirement already satisfied: fastcore in /usr/local/lib/python3.10/dist-packages (1.7.20)\n",
            "Requirement already satisfied: packaging in /usr/local/lib/python3.10/dist-packages (from fastcore) (24.2)\n",
            "Requirement already satisfied: Pillow in /usr/local/lib/python3.10/dist-packages (10.2.0)\n",
            "Collecting Pillow\n",
            "  Downloading pillow-11.0.0-cp310-cp310-manylinux_2_28_x86_64.whl.metadata (9.1 kB)\n",
            "Downloading pillow-11.0.0-cp310-cp310-manylinux_2_28_x86_64.whl (4.4 MB)\n",
            "\u001b[2K   \u001b[90m━━━━━━━━━━━━━━━━━━━━━━━━━━━━━━━━━━━━━━━━\u001b[0m \u001b[32m4.4/4.4 MB\u001b[0m \u001b[31m38.0 MB/s\u001b[0m eta \u001b[36m0:00:00\u001b[0m\n",
            "\u001b[?25hInstalling collected packages: Pillow\n",
            "  Attempting uninstall: Pillow\n",
            "    Found existing installation: pillow 10.2.0\n",
            "    Uninstalling pillow-10.2.0:\n",
            "      Successfully uninstalled pillow-10.2.0\n",
            "\u001b[31mERROR: pip's dependency resolver does not currently take into account all the packages that are installed. This behaviour is the source of the following dependency conflicts.\n",
            "facenet-pytorch 2.6.0 requires Pillow<10.3.0,>=10.2.0, but you have pillow 11.0.0 which is incompatible.\u001b[0m\u001b[31m\n",
            "\u001b[0mSuccessfully installed Pillow-11.0.0\n"
          ]
        },
        {
          "data": {
            "application/vnd.colab-display-data+json": {
              "id": "b727e4815b8d4c129d8f01ab3189bfc4",
              "pip_warning": {
                "packages": [
                  "PIL"
                ]
              }
            }
          },
          "metadata": {},
          "output_type": "display_data"
        }
      ],
      "source": [
        "!pip install fastcore -U\n",
        "!pip install Pillow -U"
      ]
    },
    {
      "cell_type": "code",
      "execution_count": null,
      "metadata": {
        "id": "Eg-WSELt0rEw"
      },
      "outputs": [],
      "source": [
        "# Import necessary libraries\n",
        "import torch\n",
        "from facenet_pytorch import InceptionResnetV1\n",
        "from torchvision import transforms, datasets\n",
        "from sklearn.model_selection import train_test_split, GridSearchCV, cross_val_score\n",
        "from sklearn.metrics import accuracy_score, classification_report\n",
        "from sklearn.preprocessing import normalize\n",
        "from sklearn.svm import SVC\n",
        "import numpy as np\n",
        "from collections import Counter"
      ]
    },
    {
      "cell_type": "code",
      "execution_count": null,
      "metadata": {
        "colab": {
          "background_save": true,
          "base_uri": "https://localhost:8080/"
        },
        "id": "k0aUJISJ0uuX",
        "outputId": "bcc6a1c5-c862-4f2a-d9fe-79bdb4fb6ae6"
      },
      "outputs": [
        {
          "name": "stdout",
          "output_type": "stream",
          "text": [
            "Number of people: 62\n",
            "Min faces per person: 20\n",
            "Max faces per person: 530\n",
            "Average faces per person: 48.76\n",
            "Cross-validated accuracy: 0.9982 ± 0.0009\n",
            "Accuracy: 1.00\n",
            "\n",
            "Detailed classification report:\n",
            "                           precision    recall  f1-score   support\n",
            "\n",
            "         Alejandro Toledo       1.00      1.00      1.00        10\n",
            "             Alvaro Uribe       1.00      1.00      1.00         9\n",
            "          Amelie Mauresmo       1.00      1.00      1.00         5\n",
            "             Andre Agassi       1.00      1.00      1.00         9\n",
            "           Angelina Jolie       1.00      1.00      1.00         5\n",
            "             Ariel Sharon       1.00      1.00      1.00        19\n",
            "    Arnold Schwarzenegger       1.00      1.00      1.00        11\n",
            "     Atal Bihari Vajpayee       1.00      1.00      1.00         6\n",
            "             Bill Clinton       1.00      1.00      1.00         7\n",
            "             Carlos Menem       1.00      1.00      1.00         5\n",
            "             Colin Powell       1.00      1.00      1.00        59\n",
            "            David Beckham       1.00      1.00      1.00         8\n",
            "          Donald Rumsfeld       1.00      1.00      1.00        30\n",
            "         George Robertson       1.00      1.00      1.00         5\n",
            "            George W Bush       1.00      1.00      1.00       133\n",
            "        Gerhard Schroeder       1.00      1.00      1.00        27\n",
            "  Gloria Macapagal Arroyo       1.00      1.00      1.00        11\n",
            "               Gray Davis       1.00      1.00      1.00         7\n",
            "          Guillermo Coria       1.00      1.00      1.00         8\n",
            "             Hamid Karzai       0.86      1.00      0.92         6\n",
            "                Hans Blix       1.00      1.00      1.00        10\n",
            "              Hugo Chavez       1.00      1.00      1.00        18\n",
            "              Igor Ivanov       1.00      1.00      1.00         5\n",
            "               Jack Straw       1.00      1.00      1.00         7\n",
            "           Jacques Chirac       1.00      1.00      1.00        13\n",
            "            Jean Chretien       1.00      1.00      1.00        14\n",
            "         Jennifer Aniston       1.00      1.00      1.00         5\n",
            "        Jennifer Capriati       1.00      1.00      1.00        11\n",
            "           Jennifer Lopez       1.00      1.00      1.00         5\n",
            "        Jeremy Greenstock       1.00      1.00      1.00         6\n",
            "              Jiang Zemin       1.00      1.00      1.00         5\n",
            "            John Ashcroft       1.00      1.00      1.00        13\n",
            "          John Negroponte       1.00      1.00      1.00         8\n",
            "         Jose Maria Aznar       1.00      1.00      1.00         6\n",
            "      Juan Carlos Ferrero       1.00      1.00      1.00         7\n",
            "        Junichiro Koizumi       1.00      1.00      1.00        15\n",
            "               Kofi Annan       1.00      1.00      1.00         8\n",
            "               Laura Bush       1.00      1.00      1.00        10\n",
            "        Lindsay Davenport       1.00      1.00      1.00         5\n",
            "           Lleyton Hewitt       1.00      1.00      1.00        10\n",
            "Luiz Inacio Lula da Silva       1.00      1.00      1.00        12\n",
            "            Mahmoud Abbas       1.00      0.86      0.92         7\n",
            "    Megawati Sukarnoputri       1.00      1.00      1.00         8\n",
            "        Michael Bloomberg       1.00      1.00      1.00         5\n",
            "              Naomi Watts       1.00      1.00      1.00         5\n",
            "          Nestor Kirchner       1.00      1.00      1.00         9\n",
            "              Paul Bremer       1.00      1.00      1.00         5\n",
            "             Pete Sampras       1.00      1.00      1.00         5\n",
            "     Recep Tayyip Erdogan       1.00      0.88      0.93         8\n",
            "            Ricardo Lagos       1.00      1.00      1.00         7\n",
            "             Roh Moo-hyun       1.00      1.00      1.00         8\n",
            "         Rudolph Giuliani       1.00      1.00      1.00         7\n",
            "           Saddam Hussein       0.86      1.00      0.92         6\n",
            "          Serena Williams       1.00      1.00      1.00        13\n",
            "        Silvio Berlusconi       1.00      1.00      1.00         8\n",
            "              Tiger Woods       1.00      1.00      1.00         6\n",
            "              Tom Daschle       1.00      1.00      1.00         6\n",
            "                Tom Ridge       1.00      1.00      1.00         8\n",
            "               Tony Blair       1.00      1.00      1.00        36\n",
            "              Vicente Fox       1.00      1.00      1.00         8\n",
            "           Vladimir Putin       1.00      1.00      1.00        12\n",
            "             Winona Ryder       1.00      1.00      1.00         6\n",
            "\n",
            "                 accuracy                           1.00       756\n",
            "                macro avg       1.00      1.00      1.00       756\n",
            "             weighted avg       1.00      1.00      1.00       756\n",
            "\n"
          ]
        }
      ],
      "source": [
        "from sklearn.datasets import fetch_lfw_people # import fetch_lfw_people from sklearn.datasets\n",
        "\n",
        "\n",
        "#Loading pre-trained FaceNet model\n",
        "device = torch.device('cuda' if torch.cuda.is_available() else 'cpu')\n",
        "facenet = InceptionResnetV1(pretrained='vggface2').eval().to(device)\n",
        "\n",
        "# Preparing the LFW Dataset with sufficient samples per class\n",
        "min_faces_per_person = 20  # Ensure at least 20 images per person\n",
        "transform = transforms.Compose([\n",
        "    transforms.Resize((160, 160)),  # Resize to FaceNet's input size\n",
        "    transforms.RandomHorizontalFlip(),\n",
        "    transforms.RandomRotation(15),  # Add slight rotation\n",
        "    transforms.ColorJitter(brightness=0.2, contrast=0.2),  # Vary brightness/contrast\n",
        "    transforms.ToTensor(),\n",
        "    transforms.Normalize(mean=[0.5, 0.5, 0.5], std=[0.5, 0.5, 0.5])  # Normalize to [-1, 1]\n",
        "])\n",
        "\n",
        "# Use fetch_lfw_people from sklearn.datasets instead of torchvision.datasets\n",
        "lfw_people = fetch_lfw_people(min_faces_per_person=min_faces_per_person,\n",
        "                                 resize=0.4, #default resize parameter is 0.4\n",
        "                                 color=True) # add color parameter to get color images\n",
        "\n",
        "# Access images and target labels from lfw_people object\n",
        "images = lfw_people.images # store images data to images variable\n",
        "target = lfw_people.target # store target data to target variable\n",
        "target_names = lfw_people.target_names # store target names to target_names variable\n",
        "\n",
        "# Checking dataset distribution\n",
        "label_counts = Counter(target)\n",
        "print(f\"Number of people: {len(label_counts)}\")\n",
        "print(f\"Min faces per person: {min(label_counts.values())}\")\n",
        "print(f\"Max faces per person: {max(label_counts.values())}\")\n",
        "print(f\"Average faces per person: {np.mean(list(label_counts.values())):.2f}\")\n",
        "\n",
        "# Converting images to PyTorch tensors so as apply transformations\n",
        "X = []\n",
        "for img in images:\n",
        "    # Convert to PIL Image\n",
        "    img = transforms.ToPILImage()(img)\n",
        "    # Apply transformations\n",
        "    img = transform(img)\n",
        "    X.append(img)\n",
        "\n",
        "X = torch.stack(X)\n",
        "y = target  # Use the target variable directly\n",
        "\n",
        "#Split dataset into train and test sets with stratification\n",
        "X_train, X_test, y_train, y_test = train_test_split(\n",
        "    X, y, test_size=0.25, stratify=y, random_state=42\n",
        ")\n",
        "\n",
        "#Extracted embeddings using FaceNet\n",
        "def extract_embeddings(images):\n",
        "    embeddings = []\n",
        "    with torch.no_grad():\n",
        "        for img in images:\n",
        "            img = img.unsqueeze(0).to(device)\n",
        "            embedding = facenet(img).cpu().numpy().flatten()\n",
        "            embeddings.append(embedding)\n",
        "    return np.array(embeddings)\n",
        "\n",
        "X_train_embeddings = extract_embeddings(X_train)\n",
        "X_test_embeddings = extract_embeddings(X_test)\n",
        "\n",
        "#Normalize the embeddings\n",
        "X_train_embeddings = normalize(X_train_embeddings)\n",
        "X_test_embeddings = normalize(X_test_embeddings)\n",
        "\n",
        "#Training the classifier with hyperparameter tuning\n",
        "param_grid = {\n",
        "    'C': [0.1, 1, 10, 100],\n",
        "    'gamma': ['scale', 'auto', 0.01],\n",
        "    'kernel': ['rbf']\n",
        "}\n",
        "\n",
        "grid = GridSearchCV(\n",
        "    SVC(class_weight='balanced', probability=True, random_state=42),\n",
        "    param_grid,\n",
        "    cv=5,\n",
        "    scoring='accuracy',\n",
        "    n_jobs=-1\n",
        ")\n",
        "\n",
        "grid.fit(X_train_embeddings, y_train)\n",
        "\n",
        "clf = grid.best_estimator_\n",
        "\n",
        "#Evaluate the model using cross-validation\n",
        "cv_scores = cross_val_score(clf, X_train_embeddings, y_train, cv=5, scoring='accuracy')\n",
        "print(f\"Cross-validated accuracy: {np.mean(cv_scores):.4f} ± {np.std(cv_scores):.4f}\")\n",
        "\n",
        "#Make predictions on the test set\n",
        "y_pred = clf.predict(X_test_embeddings)\n",
        "\n",
        "#Calculate and display metrics\n",
        "accuracy = accuracy_score(y_test, y_pred)\n",
        "print(f\"Accuracy: {accuracy:.2f}\")\n",
        "\n",
        "print(\"\\nDetailed classification report:\")\n",
        "print(classification_report(y_test, y_pred, target_names=lfw_people.target_names))\n",
        "\n",
        "\n"
      ]
    },
    {
      "cell_type": "code",
      "source": [
        "from sklearn.metrics import accuracy_score, precision_score, recall_score, f1_score\n",
        "\n",
        "#Calculate and display general metrics\n",
        "accuracy = accuracy_score(y_test, y_pred)\n",
        "precision = precision_score(y_test, y_pred, average='weighted')  # Weighted by class support\n",
        "recall = recall_score(y_test, y_pred, average='weighted')  # Weighted by class support\n",
        "f1 = f1_score(y_test, y_pred, average='weighted')  # Weighted by class support\n",
        "\n",
        "print(f\"Overall Metrics:\")\n",
        "print(f\"Accuracy: {accuracy:.2f}\")\n",
        "print(f\"Precision: {precision:.2f}\")\n",
        "print(f\"Recall: {recall:.2f}\")\n",
        "print(f\"F1 Score: {f1:.2f}\")\n"
      ],
      "metadata": {
        "colab": {
          "base_uri": "https://localhost:8080/"
        },
        "id": "V3Bpp1Q6_Kmz",
        "outputId": "89b31826-e369-4769-b6e3-c8ff6208818a"
      },
      "execution_count": null,
      "outputs": [
        {
          "output_type": "stream",
          "name": "stdout",
          "text": [
            "Overall Metrics:\n",
            "Accuracy: 1.00\n",
            "Precision: 1.00\n",
            "Recall: 1.00\n",
            "F1 Score: 1.00\n"
          ]
        }
      ]
    }
  ],
  "metadata": {
    "accelerator": "GPU",
    "colab": {
      "gpuType": "A100",
      "machine_shape": "hm",
      "provenance": [],
      "authorship_tag": "ABX9TyNnAJRRNzngjlx8BDi2jfTT",
      "include_colab_link": true
    },
    "kernelspec": {
      "display_name": "Python 3",
      "name": "python3"
    },
    "language_info": {
      "name": "python"
    }
  },
  "nbformat": 4,
  "nbformat_minor": 0
}