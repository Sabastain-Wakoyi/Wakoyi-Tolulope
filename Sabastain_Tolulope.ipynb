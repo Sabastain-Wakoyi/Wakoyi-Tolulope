{
  "nbformat": 4,
  "nbformat_minor": 0,
  "metadata": {
    "colab": {
      "provenance": [],
      "machine_shape": "hm",
      "gpuType": "A100",
      "authorship_tag": "ABX9TyM5PhwxeUsTuCa5HXiivRF6",
      "include_colab_link": true
    },
    "kernelspec": {
      "name": "python3",
      "display_name": "Python 3"
    },
    "language_info": {
      "name": "python"
    },
    "accelerator": "GPU"
  },
  "cells": [
    {
      "cell_type": "markdown",
      "metadata": {
        "id": "view-in-github",
        "colab_type": "text"
      },
      "source": [
        "<a href=\"https://colab.research.google.com/github/Sabastain-Wakoyi/Wakoyi-Tolulope/blob/main/Sabastain_Tolulope.ipynb\" target=\"_parent\"><img src=\"https://colab.research.google.com/assets/colab-badge.svg\" alt=\"Open In Colab\"/></a>"
      ]
    },
    {
      "cell_type": "code",
      "source": [
        "!pip install torchvision"
      ],
      "metadata": {
        "colab": {
          "base_uri": "https://localhost:8080/"
        },
        "id": "Lc0d6i2oKzD3",
        "outputId": "e4730fdc-fa92-4141-99b1-e734a06a19a7"
      },
      "execution_count": null,
      "outputs": [
        {
          "output_type": "stream",
          "name": "stdout",
          "text": [
            "Requirement already satisfied: torchvision in /usr/local/lib/python3.10/dist-packages (0.20.1+cu121)\n",
            "Requirement already satisfied: numpy in /usr/local/lib/python3.10/dist-packages (from torchvision) (1.26.4)\n",
            "Requirement already satisfied: torch==2.5.1 in /usr/local/lib/python3.10/dist-packages (from torchvision) (2.5.1+cu121)\n",
            "Requirement already satisfied: pillow!=8.3.*,>=5.3.0 in /usr/local/lib/python3.10/dist-packages (from torchvision) (11.0.0)\n",
            "Requirement already satisfied: filelock in /usr/local/lib/python3.10/dist-packages (from torch==2.5.1->torchvision) (3.16.1)\n",
            "Requirement already satisfied: typing-extensions>=4.8.0 in /usr/local/lib/python3.10/dist-packages (from torch==2.5.1->torchvision) (4.12.2)\n",
            "Requirement already satisfied: networkx in /usr/local/lib/python3.10/dist-packages (from torch==2.5.1->torchvision) (3.4.2)\n",
            "Requirement already satisfied: jinja2 in /usr/local/lib/python3.10/dist-packages (from torch==2.5.1->torchvision) (3.1.4)\n",
            "Requirement already satisfied: fsspec in /usr/local/lib/python3.10/dist-packages (from torch==2.5.1->torchvision) (2024.10.0)\n",
            "Requirement already satisfied: sympy==1.13.1 in /usr/local/lib/python3.10/dist-packages (from torch==2.5.1->torchvision) (1.13.1)\n",
            "Requirement already satisfied: mpmath<1.4,>=1.1.0 in /usr/local/lib/python3.10/dist-packages (from sympy==1.13.1->torch==2.5.1->torchvision) (1.3.0)\n",
            "Requirement already satisfied: MarkupSafe>=2.0 in /usr/local/lib/python3.10/dist-packages (from jinja2->torch==2.5.1->torchvision) (3.0.2)\n"
          ]
        }
      ]
    },
    {
      "cell_type": "code",
      "source": [
        "!pip install scikit-learn"
      ],
      "metadata": {
        "colab": {
          "base_uri": "https://localhost:8080/"
        },
        "id": "TUwPsv0mLiCx",
        "outputId": "9e4351c0-9717-4754-c09b-d3beb4159fc2"
      },
      "execution_count": null,
      "outputs": [
        {
          "output_type": "stream",
          "name": "stdout",
          "text": [
            "Requirement already satisfied: scikit-learn in /usr/local/lib/python3.10/dist-packages (1.5.2)\n",
            "Requirement already satisfied: numpy>=1.19.5 in /usr/local/lib/python3.10/dist-packages (from scikit-learn) (1.26.4)\n",
            "Requirement already satisfied: scipy>=1.6.0 in /usr/local/lib/python3.10/dist-packages (from scikit-learn) (1.13.1)\n",
            "Requirement already satisfied: joblib>=1.2.0 in /usr/local/lib/python3.10/dist-packages (from scikit-learn) (1.4.2)\n",
            "Requirement already satisfied: threadpoolctl>=3.1.0 in /usr/local/lib/python3.10/dist-packages (from scikit-learn) (3.5.0)\n"
          ]
        }
      ]
    },
    {
      "cell_type": "code",
      "source": [
        "import torch\n",
        "import torch.nn as nn\n",
        "from torchvision import models, transforms, datasets\n",
        "from sklearn.model_selection import train_test_split, GridSearchCV, cross_val_score\n",
        "from sklearn.metrics import accuracy_score, classification_report\n",
        "from sklearn.preprocessing import normalize\n",
        "from sklearn.svm import SVC\n",
        "import numpy as np\n",
        "from collections import Counter"
      ],
      "metadata": {
        "id": "xC3I-jueLK8P"
      },
      "execution_count": null,
      "outputs": []
    },
    {
      "cell_type": "code",
      "source": [
        "#Load pre-trained ResNet model\n",
        "device = torch.device('cuda' if torch.cuda.is_available() else 'cpu')\n",
        "resnet = models.resnet50(pretrained=True)\n",
        "resnet.fc = nn.Identity()  # Removed the final fully connected layer to get embeddings\n",
        "resnet = resnet.eval().to(device)\n",
        "\n",
        "#Prepare the LFW Dataset with sufficient samples per class\n",
        "min_faces_per_person = 20  # Ensure at least 20 images per person\n",
        "transform = transforms.Compose([\n",
        "    transforms.Resize((224, 224)),  # ResNet requires 224x224 input\n",
        "    transforms.RandomHorizontalFlip(),\n",
        "    transforms.RandomRotation(15),  # Add slight rotation\n",
        "    transforms.ColorJitter(brightness=0.2, contrast=0.2),  # Vary brightness/contrast\n",
        "    transforms.ToTensor(),\n",
        "    # Change to single channel normalization:\n",
        "    transforms.Lambda(lambda x: x.repeat(3, 1, 1)), # Repeat greyscale across 3 channels\n",
        "    transforms.Normalize(mean=[0.485, 0.456, 0.406], std=[0.229, 0.224, 0.225])  # ImageNet normalization\n",
        "])\n",
        "\n",
        "# Used fetch_lfw_people instead of LFWPeople to apply min_faces_per_person\n",
        "from sklearn.datasets import fetch_lfw_people # Import fetch_lfw_people from sklearn.datasets\n",
        "\n",
        "lfw_people = fetch_lfw_people(min_faces_per_person=min_faces_per_person, resize=0.4,\n",
        "                              data_home='./', download_if_missing=True)\n",
        "\n",
        "# Created a custom dataset using the data and target from fetch_lfw_people\n",
        "class CustomDataset(torch.utils.data.Dataset):\n",
        "    def __init__(self, images, targets, transform=None):\n",
        "        self.images = images\n",
        "        self.targets = targets\n",
        "        self.transform = transform\n",
        "\n",
        "    def __len__(self):\n",
        "        return len(self.images)\n",
        "\n",
        "    def __getitem__(self, idx):\n",
        "        image = self.images[idx]\n",
        "        target = self.targets[idx]\n",
        "\n",
        "        # Convert the image to PIL Image if it is a NumPy array\n",
        "        if isinstance(image, np.ndarray):\n",
        "            image = transforms.ToPILImage()(image)\n",
        "\n",
        "        if self.transform:\n",
        "            image = self.transform(image)\n",
        "        return image, target\n",
        "\n",
        "lfw_dataset = CustomDataset(lfw_people.images, lfw_people.target, transform=transform)\n",
        "\n",
        "# Check dataset distribution\n",
        "label_counts = Counter(lfw_dataset.targets)\n",
        "print(f\"Number of people: {len(label_counts)}\")\n",
        "print(f\"Min faces per person: {min(label_counts.values())}\")\n",
        "print(f\"Max faces per person: {max(label_counts.values())}\")\n",
        "print(f\"Average faces per person: {np.mean(list(label_counts.values())):.2f}\")\n",
        "\n",
        "\n",
        "# Extract images and labels\n",
        "X = []\n",
        "y = []\n",
        "for idx, (img, label) in enumerate(lfw_dataset):\n",
        "    X.append(img)\n",
        "    y.append(label)\n",
        "\n",
        "X = torch.stack(X)\n",
        "y = np.array(y)\n",
        "\n",
        "#Split dataset into train and test sets with stratification\n",
        "X_train, X_test, y_train, y_test = train_test_split(\n",
        "    X, y, test_size=0.25, stratify=y, random_state=42\n",
        ")\n",
        "\n",
        "#Extracted embeddings using ResNet\n",
        "def extract_embeddings(images):\n",
        "    embeddings = []\n",
        "    with torch.no_grad():\n",
        "        for img in images:\n",
        "            img = img.unsqueeze(0).to(device)  # Add batch dimension\n",
        "            embedding = resnet(img).cpu().numpy().flatten()  # Extract embedding\n",
        "            embeddings.append(embedding)\n",
        "    return np.array(embeddings)\n",
        "\n",
        "X_train_embeddings = extract_embeddings(X_train)\n",
        "X_test_embeddings = extract_embeddings(X_test)\n",
        "\n",
        "#Normalize the embeddings\n",
        "X_train_embeddings = normalize(X_train_embeddings)\n",
        "X_test_embeddings = normalize(X_test_embeddings)\n",
        "\n",
        "#Train the classifier with hyperparameter tuning\n",
        "param_grid = {\n",
        "    'C': [0.1, 1, 10, 100],\n",
        "    'gamma': ['scale', 'auto', 0.01],\n",
        "    'kernel': ['rbf']\n",
        "}\n",
        "\n",
        "grid = GridSearchCV(\n",
        "    SVC(class_weight='balanced', probability=True, random_state=42),\n",
        "    param_grid,\n",
        "    cv=5,\n",
        "    scoring='accuracy',\n",
        "    n_jobs=-1\n",
        ")\n",
        "\n",
        "grid.fit(X_train_embeddings, y_train)\n",
        "\n",
        "clf = grid.best_estimator_\n",
        "\n",
        "#Evaluatin the model using cross-validation\n",
        "cv_scores = cross_val_score(clf, X_train_embeddings, y_train, cv=5, scoring='accuracy')\n",
        "print(f\"Cross-validated accuracy: {np.mean(cv_scores):.4f} ± {np.std(cv_scores):.4f}\")\n",
        "\n",
        "#Make predictions on the test set\n",
        "y_pred = clf.predict(X_test_embeddings)\n",
        "\n",
        "#Calculate and display metrics\n",
        "accuracy = accuracy_score(y_test, y_pred)\n",
        "print(f\"Accuracy: {accuracy:.4f}\")\n",
        "\n",
        "print(\"\\nDetailed classification report:\")\n",
        "# Access classes from the original lfw_people object\n",
        "print(classification_report(y_test, y_pred, target_names=lfw_people.target_names))"
      ],
      "metadata": {
        "colab": {
          "base_uri": "https://localhost:8080/"
        },
        "id": "cTb0IsmtUTgz",
        "outputId": "d15ca3b2-f267-498d-8a2c-7a215bf66df1"
      },
      "execution_count": null,
      "outputs": [
        {
          "metadata": {
            "tags": null
          },
          "name": "stderr",
          "output_type": "stream",
          "text": [
            "/usr/local/lib/python3.10/dist-packages/torchvision/models/_utils.py:208: UserWarning: The parameter 'pretrained' is deprecated since 0.13 and may be removed in the future, please use 'weights' instead.\n",
            "  warnings.warn(\n",
            "/usr/local/lib/python3.10/dist-packages/torchvision/models/_utils.py:223: UserWarning: Arguments other than a weight enum or `None` for 'weights' are deprecated since 0.13 and may be removed in the future. The current behavior is equivalent to passing `weights=ResNet50_Weights.IMAGENET1K_V1`. You can also use `weights=ResNet50_Weights.DEFAULT` to get the most up-to-date weights.\n",
            "  warnings.warn(msg)\n"
          ]
        },
        {
          "output_type": "stream",
          "name": "stdout",
          "text": [
            "Number of people: 62\n",
            "Min faces per person: 20\n",
            "Max faces per person: 530\n",
            "Average faces per person: 48.76\n",
            "Cross-validated accuracy: 0.4879 ± 0.0205\n",
            "Accuracy: 0.4934\n",
            "\n",
            "Detailed classification report:\n",
            "                           precision    recall  f1-score   support\n",
            "\n",
            "         Alejandro Toledo       0.42      0.50      0.45        10\n",
            "             Alvaro Uribe       0.62      0.56      0.59         9\n",
            "          Amelie Mauresmo       0.50      0.60      0.55         5\n",
            "             Andre Agassi       1.00      0.56      0.71         9\n",
            "           Angelina Jolie       0.00      0.00      0.00         5\n",
            "             Ariel Sharon       0.56      0.79      0.65        19\n",
            "    Arnold Schwarzenegger       0.33      0.27      0.30        11\n",
            "     Atal Bihari Vajpayee       0.33      0.33      0.33         6\n",
            "             Bill Clinton       0.00      0.00      0.00         7\n",
            "             Carlos Menem       0.00      0.00      0.00         5\n",
            "             Colin Powell       0.56      0.71      0.63        59\n",
            "            David Beckham       0.00      0.00      0.00         8\n",
            "          Donald Rumsfeld       0.58      0.70      0.64        30\n",
            "         George Robertson       0.00      0.00      0.00         5\n",
            "            George W Bush       0.55      0.86      0.67       133\n",
            "        Gerhard Schroeder       0.32      0.37      0.34        27\n",
            "  Gloria Macapagal Arroyo       0.67      0.55      0.60        11\n",
            "               Gray Davis       0.00      0.00      0.00         7\n",
            "          Guillermo Coria       0.29      0.25      0.27         8\n",
            "             Hamid Karzai       0.17      0.17      0.17         6\n",
            "                Hans Blix       0.69      0.90      0.78        10\n",
            "              Hugo Chavez       0.25      0.28      0.26        18\n",
            "              Igor Ivanov       0.00      0.00      0.00         5\n",
            "               Jack Straw       0.20      0.14      0.17         7\n",
            "           Jacques Chirac       0.44      0.31      0.36        13\n",
            "            Jean Chretien       0.50      0.29      0.36        14\n",
            "         Jennifer Aniston       0.50      0.80      0.62         5\n",
            "        Jennifer Capriati       0.56      0.45      0.50        11\n",
            "           Jennifer Lopez       0.33      0.60      0.43         5\n",
            "        Jeremy Greenstock       0.00      0.00      0.00         6\n",
            "              Jiang Zemin       1.00      0.60      0.75         5\n",
            "            John Ashcroft       0.36      0.31      0.33        13\n",
            "          John Negroponte       0.33      0.25      0.29         8\n",
            "         Jose Maria Aznar       1.00      0.33      0.50         6\n",
            "      Juan Carlos Ferrero       0.67      0.57      0.62         7\n",
            "        Junichiro Koizumi       0.47      0.60      0.53        15\n",
            "               Kofi Annan       0.75      0.38      0.50         8\n",
            "               Laura Bush       0.40      0.40      0.40        10\n",
            "        Lindsay Davenport       0.43      0.60      0.50         5\n",
            "           Lleyton Hewitt       0.67      0.40      0.50        10\n",
            "Luiz Inacio Lula da Silva       0.70      0.58      0.64        12\n",
            "            Mahmoud Abbas       1.00      0.14      0.25         7\n",
            "    Megawati Sukarnoputri       0.83      0.62      0.71         8\n",
            "        Michael Bloomberg       0.50      0.20      0.29         5\n",
            "              Naomi Watts       0.25      0.20      0.22         5\n",
            "          Nestor Kirchner       0.43      0.33      0.38         9\n",
            "              Paul Bremer       0.00      0.00      0.00         5\n",
            "             Pete Sampras       0.67      0.40      0.50         5\n",
            "     Recep Tayyip Erdogan       0.50      0.25      0.33         8\n",
            "            Ricardo Lagos       1.00      0.43      0.60         7\n",
            "             Roh Moo-hyun       0.86      0.75      0.80         8\n",
            "         Rudolph Giuliani       0.50      0.14      0.22         7\n",
            "           Saddam Hussein       0.75      0.50      0.60         6\n",
            "          Serena Williams       0.62      0.62      0.62        13\n",
            "        Silvio Berlusconi       0.29      0.25      0.27         8\n",
            "              Tiger Woods       0.00      0.00      0.00         6\n",
            "              Tom Daschle       0.50      0.17      0.25         6\n",
            "                Tom Ridge       0.00      0.00      0.00         8\n",
            "               Tony Blair       0.29      0.33      0.31        36\n",
            "              Vicente Fox       0.67      0.25      0.36         8\n",
            "           Vladimir Putin       0.44      0.33      0.38        12\n",
            "             Winona Ryder       1.00      0.33      0.50         6\n",
            "\n",
            "                 accuracy                           0.49       756\n",
            "                macro avg       0.46      0.36      0.38       756\n",
            "             weighted avg       0.48      0.49      0.46       756\n",
            "\n"
          ]
        },
        {
          "output_type": "stream",
          "name": "stderr",
          "text": [
            "/usr/local/lib/python3.10/dist-packages/sklearn/metrics/_classification.py:1531: UndefinedMetricWarning: Precision is ill-defined and being set to 0.0 in labels with no predicted samples. Use `zero_division` parameter to control this behavior.\n",
            "  _warn_prf(average, modifier, f\"{metric.capitalize()} is\", len(result))\n",
            "/usr/local/lib/python3.10/dist-packages/sklearn/metrics/_classification.py:1531: UndefinedMetricWarning: Precision is ill-defined and being set to 0.0 in labels with no predicted samples. Use `zero_division` parameter to control this behavior.\n",
            "  _warn_prf(average, modifier, f\"{metric.capitalize()} is\", len(result))\n",
            "/usr/local/lib/python3.10/dist-packages/sklearn/metrics/_classification.py:1531: UndefinedMetricWarning: Precision is ill-defined and being set to 0.0 in labels with no predicted samples. Use `zero_division` parameter to control this behavior.\n",
            "  _warn_prf(average, modifier, f\"{metric.capitalize()} is\", len(result))\n"
          ]
        }
      ]
    },
    {
      "cell_type": "code",
      "source": [
        "from sklearn.metrics import accuracy_score, precision_score, recall_score, f1_score\n",
        "\n",
        "#Calculate and display general metrics\n",
        "accuracy = accuracy_score(y_test, y_pred)\n",
        "precision = precision_score(y_test, y_pred, average='weighted')  # Weighted by class support\n",
        "recall = recall_score(y_test, y_pred, average='weighted')  # Weighted by class support\n",
        "f1 = f1_score(y_test, y_pred, average='weighted')  # Weighted by class support\n",
        "\n",
        "print(f\"Overall Metrics:\")\n",
        "print(f\"Accuracy: {accuracy:.2f}\")\n",
        "print(f\"Precision: {precision:.2f}\")\n",
        "print(f\"Recall: {recall:.2f}\")\n",
        "print(f\"F1 Score: {f1:.2f}\")\n"
      ],
      "metadata": {
        "colab": {
          "base_uri": "https://localhost:8080/"
        },
        "id": "V3Bpp1Q6_Kmz",
        "outputId": "3fc0f751-4c5f-4c7f-fec2-33c492098c4a"
      },
      "execution_count": null,
      "outputs": [
        {
          "output_type": "stream",
          "name": "stdout",
          "text": [
            "Overall Metrics:\n",
            "Accuracy: 0.49\n",
            "Precision: 0.48\n",
            "Recall: 0.49\n",
            "F1 Score: 0.46\n"
          ]
        },
        {
          "output_type": "stream",
          "name": "stderr",
          "text": [
            "/usr/local/lib/python3.10/dist-packages/sklearn/metrics/_classification.py:1531: UndefinedMetricWarning: Precision is ill-defined and being set to 0.0 in labels with no predicted samples. Use `zero_division` parameter to control this behavior.\n",
            "  _warn_prf(average, modifier, f\"{metric.capitalize()} is\", len(result))\n"
          ]
        }
      ]
    }
  ]
}